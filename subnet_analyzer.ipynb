{
 "cells": [
  {
   "cell_type": "markdown",
   "id": "9564141a",
   "metadata": {},
   "source": [
    "<h1>Devops Tesk</h1>"
   ]
  },
  {
   "cell_type": "markdown",
   "id": "ae2d6327",
   "metadata": {},
   "source": [
    "<h3>Import Libraries</h3>"
   ]
  },
  {
   "cell_type": "code",
   "execution_count": 1,
   "id": "c6e467f0",
   "metadata": {},
   "outputs": [],
   "source": [
    "import pandas as pd\n",
    "import matplotlib.pyplot as plt\n",
    "import ipaddress"
   ]
  },
  {
   "cell_type": "markdown",
   "id": "12b8f1d2",
   "metadata": {},
   "source": [
    "<h3>Read the data</h3>"
   ]
  },
  {
   "cell_type": "code",
   "execution_count": 2,
   "id": "dcda2c38",
   "metadata": {},
   "outputs": [],
   "source": [
    "ips = pd.read_excel(\"ip_data.xlsx\")"
   ]
  },
  {
   "cell_type": "markdown",
   "id": "c9a4b363",
   "metadata": {},
   "source": [
    "<h3>Function to convert IP into binary</h3>"
   ]
  },
  {
   "cell_type": "code",
   "execution_count": 3,
   "id": "53e3c9a1",
   "metadata": {},
   "outputs": [],
   "source": [
    "def ip_to_bin(ip):\n",
    "    IP = ipaddress.IPv4Address(str(ip))\n",
    "    binary_ip = format(int(IP), '08b')\n",
    "    return binary_ip"
   ]
  },
  {
   "cell_type": "markdown",
   "id": "8c450705",
   "metadata": {},
   "source": [
    "<h3>CIDR calculate</h3>"
   ]
  },
  {
   "cell_type": "code",
   "execution_count": 4,
   "id": "16b7ded3",
   "metadata": {},
   "outputs": [],
   "source": [
    "CIDR_list =[]\n",
    "Prefix_list = []\n",
    "for i in ips.values:\n",
    "    Prefix_length = ip_to_bin(i[1]).count('1')\n",
    "    CIDR = str(i[0]) + '/' + str(Prefix_length)\n",
    "    CIDR_list.append(CIDR)\n",
    "    Prefix_list.append(Prefix_length)\n",
    "ips = ips.assign(CIDR = CIDR_list)\n",
    "ips = ips.assign(Prefix_length = Prefix_list)"
   ]
  },
  {
   "cell_type": "markdown",
   "id": "ceaac393",
   "metadata": {},
   "source": [
    "<h3>Network address calculate</h3>"
   ]
  },
  {
   "cell_type": "code",
   "execution_count": 5,
   "id": "e13c00b8",
   "metadata": {},
   "outputs": [],
   "source": [
    "network_address = []\n",
    "for i in ips.values:\n",
    "    net_add = (int(ip_to_bin(i[0]),2) & int(ip_to_bin(i[1]),2))\n",
    "    net_add = ipaddress.IPv4Address(net_add)\n",
    "    network_address.append(net_add)\n",
    "ips = ips.assign(Network_Address = network_address)"
   ]
  },
  {
   "cell_type": "markdown",
   "id": "6f5ef04c",
   "metadata": {},
   "source": [
    "<h3>broadcast address calculate</h3>"
   ]
  },
  {
   "cell_type": "code",
   "execution_count": 6,
   "id": "f7cc46fd",
   "metadata": {},
   "outputs": [],
   "source": [
    "broadcast_address = []\n",
    "for i in ips.values:\n",
    "    x = '1'*(32 - i[3])\n",
    "    bro_add = (int(ip_to_bin(i[4]),2) | int(x,2))\n",
    "    bro_add = ipaddress.IPv4Address(bro_add)\n",
    "    broadcast_address.append(bro_add)\n",
    "ips = ips.assign(Broadcast_Address = broadcast_address)"
   ]
  },
  {
   "cell_type": "markdown",
   "id": "a14a79fe",
   "metadata": {},
   "source": [
    "<h3>number of usable hosts calculate</h3>"
   ]
  },
  {
   "cell_type": "code",
   "execution_count": 7,
   "id": "b9253b6b",
   "metadata": {},
   "outputs": [],
   "source": [
    "usable_hosts = []\n",
    "for i in ips.values:\n",
    "    use_host = pow(2,32-i[3])-2\n",
    "    usable_hosts.append(use_host)\n",
    "ips = ips.assign(Number_of_usable_hosts = usable_hosts)"
   ]
  },
  {
   "cell_type": "markdown",
   "id": "9f014c15",
   "metadata": {},
   "source": [
    "<h3>Overlapping calculate</h3>"
   ]
  },
  {
   "cell_type": "code",
   "execution_count": 8,
   "id": "cae7f135",
   "metadata": {},
   "outputs": [],
   "source": [
    "overlapping ={}\n",
    "for i in ips.values:\n",
    "    for j in ips.values:\n",
    "        if i[0] == j[0]:\n",
    "            continue\n",
    "        if (ipaddress.IPv4Address(i[4]) <= ipaddress.IPv4Address(j[4]) and ipaddress.IPv4Address(i[5]) >= ipaddress.IPv4Address(j[4])) or (ipaddress.IPv4Address(i[4]) <= ipaddress.IPv4Address(j[5]) and ipaddress.IPv4Address(i[5]) >= ipaddress.IPv4Address(j[5])):\n",
    "            if i[0]in overlapping and j[0] not in overlapping[i[0]]:\n",
    "                overlapping[i[0]].append(j[0])\n",
    "            elif i[0] not in overlapping :\n",
    "                overlapping[i[0]]= [j[0]]\n",
    "            if j[0]in overlapping and i[0] not in overlapping[j[0]]:\n",
    "                overlapping[j[0]].append(i[0])\n",
    "            elif j[0] not in overlapping :\n",
    "                overlapping[j[0]]= [i[0]]"
   ]
  },
  {
   "cell_type": "code",
   "execution_count": 9,
   "id": "7cc864f5",
   "metadata": {},
   "outputs": [],
   "source": [
    "overlapping_address = []\n",
    "isOverlapping = []\n",
    "for i in ips.values:\n",
    "    if i[0] in overlapping.keys():\n",
    "        overlapping_address.append(overlapping[i[0]])\n",
    "        isOverlapping.append(True)\n",
    "    else:\n",
    "        overlapping_address.append(None)\n",
    "        isOverlapping.append(False)        \n",
    "ips = ips.assign(Overlapping = isOverlapping)\n",
    "ips = ips.assign(Overlapping_Address = overlapping_address)"
   ]
  },
  {
   "cell_type": "markdown",
   "id": "993c06bd",
   "metadata": {},
   "source": [
    "<h3>Export the result of calculation</h3>"
   ]
  },
  {
   "cell_type": "code",
   "execution_count": 10,
   "id": "d5af48dd",
   "metadata": {},
   "outputs": [],
   "source": [
    "ips.to_csv(\"subnet_report_1.csv\")"
   ]
  },
  {
   "cell_type": "markdown",
   "id": "2479502d",
   "metadata": {},
   "source": [
    "<h3>group the IPs by subnet and CIDR</h3>"
   ]
  },
  {
   "cell_type": "code",
   "execution_count": 11,
   "id": "d9109d44",
   "metadata": {},
   "outputs": [],
   "source": [
    "ips_g = ips.groupby([\"Subnet Mask\",\"Prefix_length\"])"
   ]
  },
  {
   "cell_type": "markdown",
   "id": "bb3a9f88",
   "metadata": {},
   "source": [
    "<h3>Generate a report about Subnet mask</h3>"
   ]
  },
  {
   "cell_type": "code",
   "execution_count": 12,
   "id": "3885e967",
   "metadata": {},
   "outputs": [],
   "source": [
    "summary_report = pd.DataFrame()\n",
    "for i,x in ips_g:\n",
    "    num_of_ips = x.shape[0]\n",
    "    num_of_overlapping = (x[\"Overlapping\"]== True).sum()\n",
    "    num_of_usable_hosts = x[\"Number_of_usable_hosts\"].min()\n",
    "    data =[i[0],i[1],num_of_ips,num_of_usable_hosts,num_of_overlapping]\n",
    "    summary_report = summary_report.append([data])\n",
    "summary_report.rename(columns={0:\"Subnet Mask\",1:\"CIDR\",2:\"Number of hosts\",3:\"Number of usable hosts\",4:\"Number of overlapping\"},inplace=True)"
   ]
  },
  {
   "cell_type": "code",
   "execution_count": 13,
   "id": "8a2db9f9",
   "metadata": {},
   "outputs": [],
   "source": [
    "summary_report.to_csv(\"subnet_report_2.csv\")"
   ]
  },
  {
   "cell_type": "code",
   "execution_count": 14,
   "id": "3556d6ce",
   "metadata": {},
   "outputs": [
    {
     "data": {
      "image/png": "[encoded data removed]",
      "text/plain": [
       "<Figure size 432x288 with 1 Axes>"
      ]
     },
     "metadata": {
      "needs_background": "light"
     },
     "output_type": "display_data"
    }
   ],
   "source": [
    "plt.bar(summary_report[\"Subnet Mask\"],summary_report[\"Number of hosts\"],width=0.5)\n",
    "plt.savefig('Subnet hosts.png', dpi=300)"
   ]
  }
 ],
 "metadata": {
  "kernelspec": {
   "display_name": "Python 3 (ipykernel)",
   "language": "python",
   "name": "python3"
  },
  "language_info": {
   "codemirror_mode": {
    "name": "ipython",
    "version": 3
   },
   "file_extension": ".py",
   "mimetype": "text/x-python",
   "name": "python",
   "nbconvert_exporter": "python",
   "pygments_lexer": "ipython3",
   "version": "3.9.7"
  }
 },
 "nbformat": 4,
 "nbformat_minor": 5
}
